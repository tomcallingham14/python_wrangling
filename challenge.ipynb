{
 "cells": [
  {
   "cell_type": "markdown",
   "source": "## Python Wrangling Challenge - Part 1\n\n> Handling data in Python\n\nIf you havn't already, inspect the data for this challenge. Deepnote may not be the best place to inspect this data for the first time. Try opening the csv in excel or google sheets.\n\n1. ##### Complete steps in `python_json.ipynb` (see notebooks folder). Here you'll be handling data (JSON) with plain Python.\n\n2. ##### Example Answers are below, only click `Show it` once you've had a good attempted at it!\n",
   "metadata": {
    "tags": [],
    "cell_id": "00000-73206ade-93a4-431d-968c-50c6a802b5cb",
    "output_cleared": false,
    "deepnote_cell_type": "markdown",
    "deepnote_cell_height": 246.171875
   }
  },
  {
   "cell_type": "code",
   "metadata": {
    "tags": [],
    "cell_id": "00001-49aed91c-49d7-4aa2-add8-1c9dc85c5322",
    "output_cleared": false,
    "source_hash": "de4206b5",
    "execution_millis": 35,
    "is_code_hidden": false,
    "deepnote_to_be_reexecuted": false,
    "execution_start": 1616763309070,
    "deepnote_cell_type": "code",
    "deepnote_cell_height": 405
   },
   "source": "# Import json lib\nimport json\n\n# Open file\nraw_json_data = open('data/swimming_psb_data.json')\n\n# Deserialize JSON data with json.load() function\nlist_of_athlete_dicts = json.load(raw_json_data)\n\n# Filter all Great British Athletes from psb_data list (example below using for loop to populate british athlete list)\nbritish_athlete_list = []\nfor athlete_dict in list_of_athlete_dicts:\n    if athlete_dict['c_NOC'] == 'Great Britain':\n        british_athlete_list.append(athlete_dict) \n\n# Write Serialized JSON data (using json.dumps() function) to new json file in data folder.\nwith open('data/british_psb_data.json', 'w') as file:\n    british_athlete_list_json = json.dumps(british_athlete_list) \n    file.write(british_athlete_list_json)",
   "execution_count": null,
   "outputs": []
  },
  {
   "cell_type": "markdown",
   "source": "## Python Wrangling Challenge - Part 2\n\n> Handling data in Python with Pandas\n\n1. ##### **Read** the [Introduction to Pandas](https://pandas.pydata.org/docs/getting_started/index.html#intro-to-pandas) and bookmark the Pandas Documentation (specifically the [API Reference](https://pandas.pydata.org/docs/reference/index.html#api)). Keep this [pandas cheatsheet](https://github.com/pandas-dev/pandas/blob/master/doc/cheatsheet/Pandas_Cheat_Sheet.pdf) handy too!\n\n2. ##### Finish the **```python_json_pandas.ipynb```** notebook (see notebooks folder) using [Pandas](https://pandas.pydata.org/docs/) to achieve the same outcome as the **```python_json.ipynb```** notebook.\n\n3. ##### Finish the **```python_csv_pandas.ipynb```** notebook (see notebooks folder) using [Pandas](https://pandas.pydata.org/docs/) to achieve the same outcome as the **```python_json.ipynb```** notebook, but with the ***CSV*** data.\n\n4. ##### Have each notebook wrangle the data of all ```100m Breaststroke``` swimmers from ```Great Britain```.",
   "metadata": {
    "tags": [],
    "cell_id": "00001-1a150f1d-b7e5-4e3c-9cb3-51f65ecb751a",
    "deepnote_cell_type": "markdown",
    "deepnote_cell_height": 313.390625
   }
  },
  {
   "cell_type": "markdown",
   "source": "## Python Wrangling Challenge - Part 3\n\n> Answer these questions using Pandas.\n\n1. ##### What is the shape of the dataset. How many rows and columns?\n\n2. ##### Are there any columns with missing data, if so, which ones? \n    Hint: [`df.info()`](https://pandas.pydata.org/docs/reference/api/pandas.DataFrame.info.html)?\n\n3. ##### Who is the fastest male 100m Breaststroke swimmer?\n\n4. ##### What is the median result (in seconds) for the womens 200m Individual Medley?\n\n5. ##### How many different countries are represented by female athletes within the data?\n\n6. ##### Can you plot a distribution of countries represented by all female athletes via a [bar chart](https://pandas.pydata.org/docs/reference/api/pandas.DataFrame.plot.bar.html)? \n    Hint: [`df.value_counts()`](https://pandas.pydata.org/docs/reference/api/pandas.Series.value_counts.html)?\n",
   "metadata": {
    "tags": [],
    "cell_id": "00001-1e2d1d5c-336b-4935-a215-790e875d58f8",
    "output_cleared": false,
    "deepnote_cell_type": "markdown",
    "deepnote_cell_height": 364.171875
   }
  },
  {
   "cell_type": "code",
   "metadata": {
    "tags": [],
    "cell_id": "00004-1e144669-c1ed-4bcd-809f-ef36f617e598",
    "deepnote_to_be_reexecuted": false,
    "source_hash": "bd6c95cf",
    "execution_millis": 90,
    "execution_start": 1616778315138,
    "deepnote_cell_type": "code",
    "deepnote_cell_height": 533.1875,
    "deepnote_output_heights": [
     382.1875
    ]
   },
   "source": "import pandas as pd\n\ndf = pd.read_csv('data/swimming_psb_data.csv')\ndf",
   "execution_count": null,
   "outputs": [
    {
     "output_type": "execute_result",
     "execution_count": 29,
     "data": {
      "application/vnd.deepnote.dataframe.v2+json": {
       "row_count": 16948,
       "column_count": 11,
       "columns": [
        {
         "name": "c_Sport",
         "dtype": "object",
         "stats": {
          "unique_count": 1,
          "nan_count": 0,
          "categories": [
           {
            "name": "Swimming",
            "count": 16948
           }
          ]
         }
        },
        {
         "name": "c_Season",
         "dtype": "int64",
         "stats": {
          "unique_count": 1,
          "nan_count": 0,
          "min": 2018,
          "max": 2018,
          "histogram": [
           {
            "bin_start": 2017.5,
            "bin_end": 2017.6,
            "count": 0
           },
           {
            "bin_start": 2017.6,
            "bin_end": 2017.7,
            "count": 0
           },
           {
            "bin_start": 2017.7,
            "bin_end": 2017.8,
            "count": 0
           },
           {
            "bin_start": 2017.8,
            "bin_end": 2017.9,
            "count": 0
           },
           {
            "bin_start": 2017.9,
            "bin_end": 2018,
            "count": 0
           },
           {
            "bin_start": 2018,
            "bin_end": 2018.1,
            "count": 16948
           },
           {
            "bin_start": 2018.1,
            "bin_end": 2018.2,
            "count": 0
           },
           {
            "bin_start": 2018.2,
            "bin_end": 2018.3,
            "count": 0
           },
           {
            "bin_start": 2018.3,
            "bin_end": 2018.4,
            "count": 0
           },
           {
            "bin_start": 2018.4,
            "bin_end": 2018.5,
            "count": 0
           }
          ]
         }
        },
        {
         "name": "c_Event",
         "dtype": "object",
         "stats": {
          "unique_count": 20,
          "nan_count": 0,
          "categories": [
           {
            "name": "800m Freestyle",
            "count": 989
           },
           {
            "name": "200m Individual Medley",
            "count": 988
           },
           {
            "name": "18 others",
            "count": 14971
           }
          ]
         }
        },
        {
         "name": "c_Gender",
         "dtype": "object",
         "stats": {
          "unique_count": 3,
          "nan_count": 0,
          "categories": [
           {
            "name": "Men",
            "count": 8458
           },
           {
            "name": "Women",
            "count": 8394
           },
           {
            "name": "Mixed",
            "count": 96
           }
          ]
         }
        },
        {
         "name": "n_DateSort",
         "dtype": "int64",
         "stats": {
          "unique_count": 232,
          "nan_count": 0,
          "min": 20180104,
          "max": 20181223,
          "histogram": [
           {
            "bin_start": 20180104,
            "bin_end": 20180215.9,
            "count": 521
           },
           {
            "bin_start": 20180215.9,
            "bin_end": 20180327.8,
            "count": 844
           },
           {
            "bin_start": 20180327.8,
            "bin_end": 20180439.7,
            "count": 4274
           },
           {
            "bin_start": 20180439.7,
            "bin_end": 20180551.6,
            "count": 1718
           },
           {
            "bin_start": 20180551.6,
            "bin_end": 20180663.5,
            "count": 1210
           },
           {
            "bin_start": 20180663.5,
            "bin_end": 20180775.4,
            "count": 4327
           },
           {
            "bin_start": 20180775.4,
            "bin_end": 20180887.3,
            "count": 2647
           },
           {
            "bin_start": 20180887.3,
            "bin_end": 20180999.2,
            "count": 684
           },
           {
            "bin_start": 20180999.2,
            "bin_end": 20181111.1,
            "count": 413
           },
           {
            "bin_start": 20181111.1,
            "bin_end": 20181223,
            "count": 310
           }
          ]
         }
        },
        {
         "name": "c_Person",
         "dtype": "object"
        },
        {
         "name": "c_PersonNatio",
         "dtype": "object"
        },
        {
         "name": "c_NOC",
         "dtype": "object"
        },
        {
         "name": "c_Result",
         "dtype": "object"
        },
        {
         "name": "n_ResultSort",
         "dtype": "int64"
        },
        {
         "name": "c_Class",
         "dtype": "object"
        },
        {
         "name": "_deepnote_index_column",
         "dtype": "int64"
        }
       ],
       "rows_top": [
        {
         "c_Sport": "Swimming",
         "c_Season": 2018,
         "c_Event": "100m Backstroke",
         "c_Gender": "Men",
         "n_DateSort": 20180809,
         "c_Person": "Ryan Murphy",
         "c_PersonNatio": "United States",
         "c_NOC": "United States",
         "c_Result": "51.94",
         "n_ResultSort": 51940,
         "c_Class": "Elite",
         "_deepnote_index_column": 0
        },
        {
         "c_Sport": "Swimming",
         "c_Season": 2018,
         "c_Event": "100m Backstroke",
         "c_Gender": "Men",
         "n_DateSort": 20180822,
         "c_Person": "Xu Jiayu",
         "c_PersonNatio": "China",
         "c_NOC": "China",
         "c_Result": "52.30",
         "n_ResultSort": 52300,
         "c_Class": "Elite",
         "_deepnote_index_column": 1
        },
        {
         "c_Sport": "Swimming",
         "c_Season": 2018,
         "c_Event": "100m Backstroke",
         "c_Gender": "Men",
         "n_DateSort": 20180806,
         "c_Person": "Kliment Kolesnikov",
         "c_PersonNatio": "Russia",
         "c_NOC": "Russia",
         "c_Result": "52.51",
         "n_ResultSort": 52510,
         "c_Class": "Elite",
         "_deepnote_index_column": 2
        },
        {
         "c_Sport": "Swimming",
         "c_Season": 2018,
         "c_Event": "100m Backstroke",
         "c_Gender": "Men",
         "n_DateSort": 20180819,
         "c_Person": "Ryosuke Irie",
         "c_PersonNatio": "Japan",
         "c_NOC": "Japan",
         "c_Result": "52.53",
         "n_ResultSort": 52530,
         "c_Class": "Elite",
         "_deepnote_index_column": 3
        },
        {
         "c_Sport": "Swimming",
         "c_Season": 2018,
         "c_Event": "100m Backstroke",
         "c_Gender": "Men",
         "n_DateSort": 20180728,
         "c_Person": "Matt Grevers",
         "c_PersonNatio": "United States",
         "c_NOC": "United States",
         "c_Result": "52.55",
         "n_ResultSort": 52550,
         "c_Class": "Elite",
         "_deepnote_index_column": 4
        },
        {
         "c_Sport": "Swimming",
         "c_Season": 2018,
         "c_Event": "100m Backstroke",
         "c_Gender": "Men",
         "n_DateSort": 20180809,
         "c_Person": "Evgeniy Rylov",
         "c_PersonNatio": "Russia",
         "c_NOC": "Russia",
         "c_Result": "52.66",
         "n_ResultSort": 52660,
         "c_Class": "Elite",
         "_deepnote_index_column": 5
        },
        {
         "c_Sport": "Swimming",
         "c_Season": 2018,
         "c_Event": "100m Backstroke",
         "c_Gender": "Men",
         "n_DateSort": 20180810,
         "c_Person": "Mitch Larkin",
         "c_PersonNatio": "Australia",
         "c_NOC": "Australia",
         "c_Result": "52.88",
         "n_ResultSort": 52880,
         "c_Class": "Elite",
         "_deepnote_index_column": 6
        },
        {
         "c_Sport": "Swimming",
         "c_Season": 2018,
         "c_Event": "100m Backstroke",
         "c_Gender": "Men",
         "n_DateSort": 20180806,
         "c_Person": "Grigoriy Tarasevich",
         "c_PersonNatio": "Russia",
         "c_NOC": "Russia",
         "c_Result": "53.22",
         "n_ResultSort": 53220,
         "c_Class": "Elite",
         "_deepnote_index_column": 7
        },
        {
         "c_Sport": "Swimming",
         "c_Season": 2018,
         "c_Event": "100m Backstroke",
         "c_Gender": "Men",
         "n_DateSort": 20180728,
         "c_Person": "Justin Ress",
         "c_PersonNatio": "United States",
         "c_NOC": "United States",
         "c_Result": "53.26",
         "n_ResultSort": 53260,
         "c_Class": "Elite",
         "_deepnote_index_column": 8
        },
        {
         "c_Sport": "Swimming",
         "c_Season": 2018,
         "c_Event": "100m Backstroke",
         "c_Gender": "Men",
         "n_DateSort": 20180527,
         "c_Person": "Robert Glinta",
         "c_PersonNatio": "Romania",
         "c_NOC": "Romania",
         "c_Result": "53.32",
         "n_ResultSort": 53320,
         "c_Class": "Elite",
         "_deepnote_index_column": 9
        },
        {
         "c_Sport": "Swimming",
         "c_Season": 2018,
         "c_Event": "100m Backstroke",
         "c_Gender": "Men",
         "n_DateSort": 20180805,
         "c_Person": "Simone Sabbioni",
         "c_PersonNatio": "Italy",
         "c_NOC": "Italy",
         "c_Result": "53.39",
         "n_ResultSort": 53390,
         "c_Class": "Elite",
         "_deepnote_index_column": 10
        },
        {
         "c_Sport": "Swimming",
         "c_Season": 2018,
         "c_Event": "100m Backstroke",
         "c_Gender": "Men",
         "n_DateSort": 20180705,
         "c_Person": "Daniel-Cristian Martin",
         "c_PersonNatio": "Romania",
         "c_NOC": "Romania",
         "c_Result": "53.52",
         "n_ResultSort": 53520,
         "c_Class": "Elite",
         "_deepnote_index_column": 11
        },
        {
         "c_Sport": "Swimming",
         "c_Season": 2018,
         "c_Event": "100m Backstroke",
         "c_Gender": "Men",
         "n_DateSort": 20180810,
         "c_Person": "Michael Andrew",
         "c_PersonNatio": "United States",
         "c_NOC": "United States",
         "c_Result": "53.55",
         "n_ResultSort": 53550,
         "c_Class": "Elite",
         "_deepnote_index_column": 12
        },
        {
         "c_Sport": "Swimming",
         "c_Season": 2018,
         "c_Event": "100m Backstroke",
         "c_Gender": "Men",
         "n_DateSort": 20180403,
         "c_Person": "Junya Koga",
         "c_PersonNatio": "Japan",
         "c_NOC": "Japan",
         "c_Result": "53.60",
         "n_ResultSort": 53600,
         "c_Class": "Elite",
         "_deepnote_index_column": 13
        },
        {
         "c_Sport": "Swimming",
         "c_Season": 2018,
         "c_Event": "100m Backstroke",
         "c_Gender": "Men",
         "n_DateSort": 20180423,
         "c_Person": "Nikita Ulyanov",
         "c_PersonNatio": "Russia",
         "c_NOC": "Russia",
         "c_Result": "53.60",
         "n_ResultSort": 53600,
         "c_Class": "Elite",
         "_deepnote_index_column": 14
        },
        {
         "c_Sport": "Swimming",
         "c_Season": 2018,
         "c_Event": "100m Backstroke",
         "c_Gender": "Men",
         "n_DateSort": 20181008,
         "c_Person": "Thomas Ceccon",
         "c_PersonNatio": "Italy",
         "c_NOC": "Italy",
         "c_Result": "53.65",
         "n_ResultSort": 53650,
         "c_Class": "Elite",
         "_deepnote_index_column": 15
        },
        {
         "c_Sport": "Swimming",
         "c_Season": 2018,
         "c_Event": "100m Backstroke",
         "c_Gender": "Men",
         "n_DateSort": 20180713,
         "c_Person": "Mark Nikolaev",
         "c_PersonNatio": "Russia",
         "c_NOC": "Russia",
         "c_Result": "53.68",
         "n_ResultSort": 53680,
         "c_Class": "Elite",
         "_deepnote_index_column": 16
        },
        {
         "c_Sport": "Swimming",
         "c_Season": 2018,
         "c_Event": "100m Backstroke",
         "c_Gender": "Men",
         "n_DateSort": 20180806,
         "c_Person": "Apostolos Christou",
         "c_PersonNatio": "Greece",
         "c_NOC": "Greece",
         "c_Result": "53.72",
         "n_ResultSort": 53720,
         "c_Class": "Elite",
         "_deepnote_index_column": 17
        },
        {
         "c_Sport": "Swimming",
         "c_Season": 2018,
         "c_Event": "100m Backstroke",
         "c_Gender": "Men",
         "n_DateSort": 20180809,
         "c_Person": "Gabriel Fantoni",
         "c_PersonNatio": "Brazil",
         "c_NOC": "Brazil",
         "c_Result": "53.72",
         "n_ResultSort": 53720,
         "c_Class": "Elite",
         "_deepnote_index_column": 18
        },
        {
         "c_Sport": "Swimming",
         "c_Season": 2018,
         "c_Event": "100m Backstroke",
         "c_Gender": "Men",
         "n_DateSort": 20180525,
         "c_Person": "Kacper Stokowski",
         "c_PersonNatio": "Poland",
         "c_NOC": "Poland",
         "c_Result": "53.82",
         "n_ResultSort": 53820,
         "c_Class": "Elite",
         "_deepnote_index_column": 19
        },
        {
         "c_Sport": "Swimming",
         "c_Season": 2018,
         "c_Event": "100m Backstroke",
         "c_Gender": "Men",
         "n_DateSort": 20180728,
         "c_Person": "Bryce Mefford",
         "c_PersonNatio": "United States",
         "c_NOC": "United States",
         "c_Result": "53.84",
         "n_ResultSort": 53840,
         "c_Class": "Elite",
         "_deepnote_index_column": 20
        },
        {
         "c_Sport": "Swimming",
         "c_Season": 2018,
         "c_Event": "100m Backstroke",
         "c_Gender": "Men",
         "n_DateSort": 20180405,
         "c_Person": "Markus Thormeyer",
         "c_PersonNatio": "Canada",
         "c_NOC": "Canada",
         "c_Result": "53.86",
         "n_ResultSort": 53860,
         "c_Class": "Elite",
         "_deepnote_index_column": 21
        },
        {
         "c_Sport": "Swimming",
         "c_Season": 2018,
         "c_Event": "100m Backstroke",
         "c_Gender": "Men",
         "n_DateSort": 20180630,
         "c_Person": "Bradley Woodward",
         "c_PersonNatio": "Australia",
         "c_NOC": "Australia",
         "c_Result": "53.89",
         "n_ResultSort": 53890,
         "c_Class": "Elite",
         "_deepnote_index_column": 22
        },
        {
         "c_Sport": "Swimming",
         "c_Season": 2018,
         "c_Event": "100m Backstroke",
         "c_Gender": "Men",
         "n_DateSort": 20180810,
         "c_Person": "Javier Acevedo",
         "c_PersonNatio": "Canada",
         "c_NOC": "Canada",
         "c_Result": "53.90",
         "n_ResultSort": 53900,
         "c_Class": "Elite",
         "_deepnote_index_column": 23
        },
        {
         "c_Sport": "Swimming",
         "c_Season": 2018,
         "c_Event": "100m Backstroke",
         "c_Gender": "Men",
         "n_DateSort": 20181130,
         "c_Person": "Christopher Reid",
         "c_PersonNatio": "South Africa",
         "c_NOC": "South Africa",
         "c_Result": "53.92",
         "n_ResultSort": 53920,
         "c_Class": "Elite",
         "_deepnote_index_column": 24
        },
        {
         "c_Sport": "Swimming",
         "c_Season": 2018,
         "c_Event": "100m Backstroke",
         "c_Gender": "Men",
         "n_DateSort": 20180806,
         "c_Person": "Christian Diener",
         "c_PersonNatio": "Germany",
         "c_NOC": "Germany",
         "c_Result": "53.92",
         "n_ResultSort": 53920,
         "c_Class": "Elite",
         "_deepnote_index_column": 25
        },
        {
         "c_Sport": "Swimming",
         "c_Season": 2018,
         "c_Event": "100m Backstroke",
         "c_Gender": "Men",
         "n_DateSort": 20180303,
         "c_Person": "Jacob Pebley",
         "c_PersonNatio": "United States",
         "c_NOC": "United States",
         "c_Result": "53.93",
         "n_ResultSort": 53930,
         "c_Class": "Elite",
         "_deepnote_index_column": 26
        },
        {
         "c_Sport": "Swimming",
         "c_Season": 2018,
         "c_Event": "100m Backstroke",
         "c_Gender": "Men",
         "n_DateSort": 20180407,
         "c_Person": "Shane Ryan",
         "c_PersonNatio": "Ireland",
         "c_NOC": "Ireland",
         "c_Result": "53.96",
         "n_ResultSort": 53960,
         "c_Class": "Elite",
         "_deepnote_index_column": 27
        },
        {
         "c_Sport": "Swimming",
         "c_Season": 2018,
         "c_Event": "100m Backstroke",
         "c_Gender": "Men",
         "n_DateSort": 20180630,
         "c_Person": "Tristan Hollard",
         "c_PersonNatio": "Australia",
         "c_NOC": "Australia",
         "c_Result": "53.98",
         "n_ResultSort": 53980,
         "c_Class": "Elite",
         "_deepnote_index_column": 28
        },
        {
         "c_Sport": "Swimming",
         "c_Season": 2018,
         "c_Event": "100m Backstroke",
         "c_Gender": "Men",
         "n_DateSort": 20180427,
         "c_Person": "Yakov Toumarkin",
         "c_PersonNatio": "Israel",
         "c_NOC": "Israel",
         "c_Result": "54.00",
         "n_ResultSort": 54000,
         "c_Class": "Elite",
         "_deepnote_index_column": 29
        },
        {
         "c_Sport": "Swimming",
         "c_Season": 2018,
         "c_Event": "100m Backstroke",
         "c_Gender": "Men",
         "n_DateSort": 20180728,
         "c_Person": "Daniel Carr",
         "c_PersonNatio": "United States",
         "c_NOC": "United States",
         "c_Result": "54.01",
         "n_ResultSort": 54010,
         "c_Class": "Elite",
         "_deepnote_index_column": 30
        },
        {
         "c_Sport": "Swimming",
         "c_Season": 2018,
         "c_Event": "100m Backstroke",
         "c_Gender": "Men",
         "n_DateSort": 20180728,
         "c_Person": "Coleman Stewart",
         "c_PersonNatio": "United States",
         "c_NOC": "United States",
         "c_Result": "54.03",
         "n_ResultSort": 54030,
         "c_Class": "Elite",
         "_deepnote_index_column": 31
        },
        {
         "c_Sport": "Swimming",
         "c_Season": 2018,
         "c_Event": "100m Backstroke",
         "c_Gender": "Men",
         "n_DateSort": 20181221,
         "c_Person": "Richárd Bohus",
         "c_PersonNatio": "Hungary",
         "c_NOC": "Hungary",
         "c_Result": "54.05",
         "n_ResultSort": 54050,
         "c_Class": "Elite",
         "_deepnote_index_column": 32
        },
        {
         "c_Sport": "Swimming",
         "c_Season": 2018,
         "c_Event": "100m Backstroke",
         "c_Gender": "Men",
         "n_DateSort": 20181107,
         "c_Person": "Guilherme Guido",
         "c_PersonNatio": "Brazil",
         "c_NOC": "Brazil",
         "c_Result": "54.06",
         "n_ResultSort": 54060,
         "c_Class": "Elite",
         "_deepnote_index_column": 33
        },
        {
         "c_Sport": "Swimming",
         "c_Season": 2018,
         "c_Event": "100m Backstroke",
         "c_Gender": "Men",
         "n_DateSort": 20180728,
         "c_Person": "Austin Katz",
         "c_PersonNatio": "United States",
         "c_NOC": "United States",
         "c_Result": "54.06",
         "n_ResultSort": 54060,
         "c_Class": "Elite",
         "_deepnote_index_column": 34
        },
        {
         "c_Sport": "Swimming",
         "c_Season": 2018,
         "c_Event": "100m Backstroke",
         "c_Gender": "Men",
         "n_DateSort": 20180404,
         "c_Person": "Masaki Kaneko",
         "c_PersonNatio": "Japan",
         "c_NOC": "Japan",
         "c_Result": "54.10",
         "n_ResultSort": 54100,
         "c_Class": "Elite",
         "_deepnote_index_column": 35
        },
        {
         "c_Sport": "Swimming",
         "c_Season": 2018,
         "c_Event": "100m Backstroke",
         "c_Gender": "Men",
         "n_DateSort": 20180413,
         "c_Person": "Li Guangyuan",
         "c_PersonNatio": "China",
         "c_NOC": "China",
         "c_Result": "54.13",
         "n_ResultSort": 54130,
         "c_Class": "Elite",
         "_deepnote_index_column": 36
        },
        {
         "c_Sport": "Swimming",
         "c_Season": 2018,
         "c_Event": "100m Backstroke",
         "c_Gender": "Men",
         "n_DateSort": 20180427,
         "c_Person": "Lee Ju-Ho",
         "c_PersonNatio": "Korea",
         "c_NOC": "Korea",
         "c_Result": "54.17",
         "n_ResultSort": 54170,
         "c_Class": "Elite",
         "_deepnote_index_column": 37
        },
        {
         "c_Sport": "Swimming",
         "c_Season": 2018,
         "c_Event": "100m Backstroke",
         "c_Gender": "Men",
         "n_DateSort": 20180728,
         "c_Person": "Dean Farris",
         "c_PersonNatio": "United States",
         "c_NOC": "United States",
         "c_Result": "54.21",
         "n_ResultSort": 54210,
         "c_Class": "Elite",
         "_deepnote_index_column": 38
        },
        {
         "c_Sport": "Swimming",
         "c_Season": 2018,
         "c_Event": "100m Backstroke",
         "c_Gender": "Men",
         "n_DateSort": 20180407,
         "c_Person": "Chris Walker-Hebborn",
         "c_PersonNatio": "England",
         "c_NOC": "Great Britain",
         "c_Result": "54.23",
         "n_ResultSort": 54230,
         "c_Class": "Elite",
         "_deepnote_index_column": 39
        },
        {
         "c_Sport": "Swimming",
         "c_Season": 2018,
         "c_Event": "100m Backstroke",
         "c_Gender": "Men",
         "n_DateSort": 20180805,
         "c_Person": "Jan-Philip Glania",
         "c_PersonNatio": "Germany",
         "c_NOC": "Germany",
         "c_Result": "54.24",
         "n_ResultSort": 54240,
         "c_Class": "Elite",
         "_deepnote_index_column": 40
        },
        {
         "c_Sport": "Swimming",
         "c_Season": 2018,
         "c_Event": "100m Backstroke",
         "c_Gender": "Men",
         "n_DateSort": 20180403,
         "c_Person": "Junya Hasegawa",
         "c_PersonNatio": "Japan",
         "c_NOC": "Japan",
         "c_Result": "54.24",
         "n_ResultSort": 54240,
         "c_Class": "Elite",
         "_deepnote_index_column": 41
        },
        {
         "c_Sport": "Swimming",
         "c_Season": 2018,
         "c_Event": "100m Backstroke",
         "c_Gender": "Men",
         "n_DateSort": 20180813,
         "c_Person": "Matteo Milli",
         "c_PersonNatio": "Italy",
         "c_NOC": "Italy",
         "c_Result": "54.25",
         "n_ResultSort": 54250,
         "c_Class": "Elite",
         "_deepnote_index_column": 42
        },
        {
         "c_Sport": "Swimming",
         "c_Season": 2018,
         "c_Event": "100m Backstroke",
         "c_Gender": "Men",
         "n_DateSort": 20180427,
         "c_Person": "Park Seon-Kwan",
         "c_PersonNatio": "Korea",
         "c_NOC": "Korea",
         "c_Result": "54.25",
         "n_ResultSort": 54250,
         "c_Class": "Elite",
         "_deepnote_index_column": 43
        },
        {
         "c_Sport": "Swimming",
         "c_Season": 2018,
         "c_Event": "100m Backstroke",
         "c_Gender": "Men",
         "n_DateSort": 20180202,
         "c_Person": "Mikita Tsmyh",
         "c_PersonNatio": "Belarus",
         "c_NOC": "Belarus",
         "c_Result": "54.27",
         "n_ResultSort": 54270,
         "c_Class": "Elite",
         "_deepnote_index_column": 44
        }
       ],
       "rows_bottom": [
        {
         "c_Sport": "Swimming",
         "c_Season": 2018,
         "c_Event": "800m Freestyle",
         "c_Gender": "Women",
         "n_DateSort": 20180302,
         "c_Person": "Aisha Thornton",
         "c_PersonNatio": "Great Britain",
         "c_NOC": "Great Britain",
         "c_Result": "9:00.89",
         "n_ResultSort": 540890,
         "c_Class": "Elite",
         "_deepnote_index_column": 16903
        },
        {
         "c_Sport": "Swimming",
         "c_Season": 2018,
         "c_Event": "800m Freestyle",
         "c_Gender": "Women",
         "n_DateSort": 20180511,
         "c_Person": "Karina Abrosimova",
         "c_PersonNatio": "Russia",
         "c_NOC": "Russia",
         "c_Result": "9:00.94",
         "n_ResultSort": 540940,
         "c_Class": "Elite",
         "_deepnote_index_column": 16904
        },
        {
         "c_Sport": "Swimming",
         "c_Season": 2018,
         "c_Event": "800m Freestyle",
         "c_Gender": "Women",
         "n_DateSort": 20180528,
         "c_Person": "Samantha Arevalo",
         "c_PersonNatio": "Ecuador",
         "c_NOC": "Ecuador",
         "c_Result": "9:00.95",
         "n_ResultSort": 540950,
         "c_Class": "Elite",
         "_deepnote_index_column": 16905
        },
        {
         "c_Sport": "Swimming",
         "c_Season": 2018,
         "c_Event": "800m Freestyle",
         "c_Gender": "Women",
         "n_DateSort": 20181128,
         "c_Person": "Merve Tuncel",
         "c_PersonNatio": "Turkey",
         "c_NOC": "Turkey",
         "c_Result": "9:00.97",
         "n_ResultSort": 540970,
         "c_Class": "Elite",
         "_deepnote_index_column": 16906
        },
        {
         "c_Sport": "Swimming",
         "c_Season": 2018,
         "c_Event": "800m Freestyle",
         "c_Gender": "Women",
         "n_DateSort": 20180908,
         "c_Person": "Hiroko Ohtsuka",
         "c_PersonNatio": "Japan",
         "c_NOC": "Japan",
         "c_Result": "9:01.02",
         "n_ResultSort": 541020,
         "c_Class": "Elite",
         "_deepnote_index_column": 16907
        },
        {
         "c_Sport": "Swimming",
         "c_Season": 2018,
         "c_Event": "800m Freestyle",
         "c_Gender": "Women",
         "n_DateSort": 20180813,
         "c_Person": "Ilaria Murzilli",
         "c_PersonNatio": "Italy",
         "c_NOC": "Italy",
         "c_Result": "9:01.04",
         "n_ResultSort": 541040,
         "c_Class": "Elite",
         "_deepnote_index_column": 16908
        },
        {
         "c_Sport": "Swimming",
         "c_Season": 2018,
         "c_Event": "800m Freestyle",
         "c_Gender": "Women",
         "n_DateSort": 20180720,
         "c_Person": "Antonia Stenbrock",
         "c_PersonNatio": "Germany",
         "c_NOC": "Germany",
         "c_Result": "9:01.09",
         "n_ResultSort": 541090,
         "c_Class": "Elite",
         "_deepnote_index_column": 16909
        },
        {
         "c_Sport": "Swimming",
         "c_Season": 2018,
         "c_Event": "800m Freestyle",
         "c_Gender": "Women",
         "n_DateSort": 20180413,
         "c_Person": "Li Jiaqi",
         "c_PersonNatio": "China",
         "c_NOC": "China",
         "c_Result": "9:01.10",
         "n_ResultSort": 541100,
         "c_Class": "Elite",
         "_deepnote_index_column": 16910
        },
        {
         "c_Sport": "Swimming",
         "c_Season": 2018,
         "c_Event": "800m Freestyle",
         "c_Gender": "Women",
         "n_DateSort": 20180813,
         "c_Person": "Greta Bonada",
         "c_PersonNatio": "Italy",
         "c_NOC": "Italy",
         "c_Result": "9:01.17",
         "n_ResultSort": 541170,
         "c_Class": "Elite",
         "_deepnote_index_column": 16911
        },
        {
         "c_Sport": "Swimming",
         "c_Season": 2018,
         "c_Event": "800m Freestyle",
         "c_Gender": "Women",
         "n_DateSort": 20180915,
         "c_Person": "Li Xinyu",
         "c_PersonNatio": "China",
         "c_NOC": "China",
         "c_Result": "9:01.28",
         "n_ResultSort": 541280,
         "c_Class": "Elite",
         "_deepnote_index_column": 16912
        },
        {
         "c_Sport": "Swimming",
         "c_Season": 2018,
         "c_Event": "800m Freestyle",
         "c_Gender": "Women",
         "n_DateSort": 20180415,
         "c_Person": "Marij van der Mast",
         "c_PersonNatio": "Netherlands",
         "c_NOC": "Netherlands",
         "c_Result": "9:01.35",
         "n_ResultSort": 541350,
         "c_Class": "Elite",
         "_deepnote_index_column": 16913
        },
        {
         "c_Sport": "Swimming",
         "c_Season": 2018,
         "c_Event": "800m Freestyle",
         "c_Gender": "Women",
         "n_DateSort": 20180318,
         "c_Person": "Akiko Moritomo",
         "c_PersonNatio": "Japan",
         "c_NOC": "Japan",
         "c_Result": "9:01.39",
         "n_ResultSort": 541390,
         "c_Class": "Elite",
         "_deepnote_index_column": 16914
        },
        {
         "c_Sport": "Swimming",
         "c_Season": 2018,
         "c_Event": "800m Freestyle",
         "c_Gender": "Women",
         "n_DateSort": 20180602,
         "c_Person": "Logan Shiller",
         "c_PersonNatio": "United States",
         "c_NOC": "United States",
         "c_Result": "9:01.44",
         "n_ResultSort": 541440,
         "c_Class": "Elite",
         "_deepnote_index_column": 16915
        },
        {
         "c_Sport": "Swimming",
         "c_Season": 2018,
         "c_Event": "800m Freestyle",
         "c_Gender": "Women",
         "n_DateSort": 20180813,
         "c_Person": "Anna Chiara Mascolo",
         "c_PersonNatio": "Italy",
         "c_NOC": "Italy",
         "c_Result": "9:01.45",
         "n_ResultSort": 541450,
         "c_Class": "Elite",
         "_deepnote_index_column": 16916
        },
        {
         "c_Sport": "Swimming",
         "c_Season": 2018,
         "c_Event": "800m Freestyle",
         "c_Gender": "Women",
         "n_DateSort": 20180418,
         "c_Person": "Paris Cutler",
         "c_PersonNatio": "New Zealand",
         "c_NOC": "New Zealand",
         "c_Result": "9:01.46",
         "n_ResultSort": 541460,
         "c_Class": "Elite",
         "_deepnote_index_column": 16917
        },
        {
         "c_Sport": "Swimming",
         "c_Season": 2018,
         "c_Event": "800m Freestyle",
         "c_Gender": "Women",
         "n_DateSort": 20180323,
         "c_Person": "Fleur Lewis",
         "c_PersonNatio": "Great Britain",
         "c_NOC": "Great Britain",
         "c_Result": "9:01.59",
         "n_ResultSort": 541590,
         "c_Class": "Elite",
         "_deepnote_index_column": 16918
        },
        {
         "c_Sport": "Swimming",
         "c_Season": 2018,
         "c_Event": "800m Freestyle",
         "c_Gender": "Women",
         "n_DateSort": 20180410,
         "c_Person": "Barbara Pozzobon",
         "c_PersonNatio": "Italy",
         "c_NOC": "Italy",
         "c_Result": "9:01.64",
         "n_ResultSort": 541640,
         "c_Class": "Elite",
         "_deepnote_index_column": 16919
        },
        {
         "c_Sport": "Swimming",
         "c_Season": 2018,
         "c_Event": "800m Freestyle",
         "c_Gender": "Women",
         "n_DateSort": 20180913,
         "c_Person": "Souad Cherouati",
         "c_PersonNatio": "Algeria",
         "c_NOC": "Algeria",
         "c_Result": "9:01.68",
         "n_ResultSort": 541680,
         "c_Class": "Elite",
         "_deepnote_index_column": 16920
        },
        {
         "c_Sport": "Swimming",
         "c_Season": 2018,
         "c_Event": "800m Freestyle",
         "c_Gender": "Women",
         "n_DateSort": 20180113,
         "c_Person": "Anna Kalandadze",
         "c_PersonNatio": "United States",
         "c_NOC": "United States",
         "c_Result": "9:01.71",
         "n_ResultSort": 541710,
         "c_Class": "Elite",
         "_deepnote_index_column": 16921
        },
        {
         "c_Sport": "Swimming",
         "c_Season": 2018,
         "c_Event": "800m Freestyle",
         "c_Gender": "Women",
         "n_DateSort": 20180520,
         "c_Person": "Emily Ilgenfritz",
         "c_PersonNatio": "United States",
         "c_NOC": "United States",
         "c_Result": "9:01.71",
         "n_ResultSort": 541710,
         "c_Class": "Elite",
         "_deepnote_index_column": 16922
        },
        {
         "c_Sport": "Swimming",
         "c_Season": 2018,
         "c_Event": "800m Freestyle",
         "c_Gender": "Women",
         "n_DateSort": 20180427,
         "c_Person": "Lim Hyun Ha",
         "c_PersonNatio": "Korea",
         "c_NOC": "Korea",
         "c_Result": "9:01.72",
         "n_ResultSort": 541720,
         "c_Class": "Elite",
         "_deepnote_index_column": 16923
        },
        {
         "c_Sport": "Swimming",
         "c_Season": 2018,
         "c_Event": "800m Freestyle",
         "c_Gender": "Women",
         "n_DateSort": 20180519,
         "c_Person": "Kyla Ross",
         "c_PersonNatio": "Canada",
         "c_NOC": "Canada",
         "c_Result": "9:01.76",
         "n_ResultSort": 541760,
         "c_Class": "Elite",
         "_deepnote_index_column": 16924
        },
        {
         "c_Sport": "Swimming",
         "c_Season": 2018,
         "c_Event": "800m Freestyle",
         "c_Gender": "Women",
         "n_DateSort": 20180408,
         "c_Person": "Christine Ekman",
         "c_PersonNatio": "Sweden",
         "c_NOC": "Sweden",
         "c_Result": "9:01.80",
         "n_ResultSort": 541800,
         "c_Class": "Elite",
         "_deepnote_index_column": 16925
        },
        {
         "c_Sport": "Swimming",
         "c_Season": 2018,
         "c_Event": "800m Freestyle",
         "c_Gender": "Women",
         "n_DateSort": 20180728,
         "c_Person": "Karling Hemstreet",
         "c_PersonNatio": "United States",
         "c_NOC": "United States",
         "c_Result": "9:01.83",
         "n_ResultSort": 541830,
         "c_Class": "Elite",
         "_deepnote_index_column": 16926
        },
        {
         "c_Sport": "Swimming",
         "c_Season": 2018,
         "c_Event": "800m Freestyle",
         "c_Gender": "Women",
         "n_DateSort": 20180818,
         "c_Person": "Moeka Hirata",
         "c_PersonNatio": "Japan",
         "c_NOC": "Japan",
         "c_Result": "9:01.84",
         "n_ResultSort": 541840,
         "c_Class": "Elite",
         "_deepnote_index_column": 16927
        },
        {
         "c_Sport": "Swimming",
         "c_Season": 2018,
         "c_Event": "800m Freestyle",
         "c_Gender": "Women",
         "n_DateSort": 20180711,
         "c_Person": "Margarita Varulnikova",
         "c_PersonNatio": "Russia",
         "c_NOC": "Russia",
         "c_Result": "9:01.84",
         "n_ResultSort": 541840,
         "c_Class": "Elite",
         "_deepnote_index_column": 16928
        },
        {
         "c_Sport": "Swimming",
         "c_Season": 2018,
         "c_Event": "800m Freestyle",
         "c_Gender": "Women",
         "n_DateSort": 20180526,
         "c_Person": "Ecem Donmez",
         "c_PersonNatio": "Turkey",
         "c_NOC": "Turkey",
         "c_Result": "9:01.85",
         "n_ResultSort": 541850,
         "c_Class": "Elite",
         "_deepnote_index_column": 16929
        },
        {
         "c_Sport": "Swimming",
         "c_Season": 2018,
         "c_Event": "800m Freestyle",
         "c_Gender": "Women",
         "n_DateSort": 20180507,
         "c_Person": "Betsy Wizard",
         "c_PersonNatio": "Great Britain",
         "c_NOC": "Great Britain",
         "c_Result": "9:01.90",
         "n_ResultSort": 541900,
         "c_Class": "Elite",
         "_deepnote_index_column": 16930
        },
        {
         "c_Sport": "Swimming",
         "c_Season": 2018,
         "c_Event": "800m Freestyle",
         "c_Gender": "Women",
         "n_DateSort": 20180525,
         "c_Person": "Emilia Colti Dumitrescu",
         "c_PersonNatio": "Romania",
         "c_NOC": "Romania",
         "c_Result": "9:02.00",
         "n_ResultSort": 542000,
         "c_Class": "Elite",
         "_deepnote_index_column": 16931
        },
        {
         "c_Sport": "Swimming",
         "c_Season": 2018,
         "c_Event": "800m Freestyle",
         "c_Gender": "Women",
         "n_DateSort": 20180818,
         "c_Person": "Nanami Kouchi",
         "c_PersonNatio": "Japan",
         "c_NOC": "Japan",
         "c_Result": "9:02.02",
         "n_ResultSort": 542020,
         "c_Class": "Elite",
         "_deepnote_index_column": 16932
        },
        {
         "c_Sport": "Swimming",
         "c_Season": 2018,
         "c_Event": "800m Freestyle",
         "c_Gender": "Women",
         "n_DateSort": 20180622,
         "c_Person": "Yang Yaan",
         "c_PersonNatio": "China",
         "c_NOC": "China",
         "c_Result": "9:02.03",
         "n_ResultSort": 542030,
         "c_Class": "Elite",
         "_deepnote_index_column": 16933
        },
        {
         "c_Sport": "Swimming",
         "c_Season": 2018,
         "c_Event": "800m Freestyle",
         "c_Gender": "Women",
         "n_DateSort": 20180524,
         "c_Person": "Julia Adamczyk",
         "c_PersonNatio": "Poland",
         "c_NOC": "Poland",
         "c_Result": "9:02.04",
         "n_ResultSort": 542040,
         "c_Class": "Elite",
         "_deepnote_index_column": 16934
        },
        {
         "c_Sport": "Swimming",
         "c_Season": 2018,
         "c_Event": "800m Freestyle",
         "c_Gender": "Women",
         "n_DateSort": 20180530,
         "c_Person": "Mira Szimcsák",
         "c_PersonNatio": "Hungary",
         "c_NOC": "Hungary",
         "c_Result": "9:02.09",
         "n_ResultSort": 542090,
         "c_Class": "Elite",
         "_deepnote_index_column": 16935
        },
        {
         "c_Sport": "Swimming",
         "c_Season": 2018,
         "c_Event": "800m Freestyle",
         "c_Gender": "Women",
         "n_DateSort": 20180423,
         "c_Person": "Victoria Bushell",
         "c_PersonNatio": "Australia",
         "c_NOC": "Australia",
         "c_Result": "9:02.10",
         "n_ResultSort": 542100,
         "c_Class": "Elite",
         "_deepnote_index_column": 16936
        },
        {
         "c_Sport": "Swimming",
         "c_Season": 2018,
         "c_Event": "800m Freestyle",
         "c_Gender": "Women",
         "n_DateSort": 20180420,
         "c_Person": "Anastasia Basalduk",
         "c_PersonNatio": "Russia",
         "c_NOC": "Russia",
         "c_Result": "9:02.10",
         "n_ResultSort": 542100,
         "c_Class": "Elite",
         "_deepnote_index_column": 16937
        },
        {
         "c_Sport": "Swimming",
         "c_Season": 2018,
         "c_Event": "800m Freestyle",
         "c_Gender": "Women",
         "n_DateSort": 20180331,
         "c_Person": "Iona Macleod",
         "c_PersonNatio": "Great Britain",
         "c_NOC": "Great Britain",
         "c_Result": "9:02.12",
         "n_ResultSort": 542120,
         "c_Class": "Elite",
         "_deepnote_index_column": 16938
        },
        {
         "c_Sport": "Swimming",
         "c_Season": 2018,
         "c_Event": "800m Freestyle",
         "c_Gender": "Women",
         "n_DateSort": 20180702,
         "c_Person": "Monique King",
         "c_PersonNatio": "New Zealand",
         "c_NOC": "New Zealand",
         "c_Result": "9:02.19",
         "n_ResultSort": 542190,
         "c_Class": "Elite",
         "_deepnote_index_column": 16939
        },
        {
         "c_Sport": "Swimming",
         "c_Season": 2018,
         "c_Event": "800m Freestyle",
         "c_Gender": "Women",
         "n_DateSort": 20180705,
         "c_Person": "Ester Rydbeck Nordèn",
         "c_PersonNatio": "Sweden",
         "c_NOC": "Sweden",
         "c_Result": "9:02.25",
         "n_ResultSort": 542250,
         "c_Class": "Elite",
         "_deepnote_index_column": 16940
        },
        {
         "c_Sport": "Swimming",
         "c_Season": 2018,
         "c_Event": "800m Freestyle",
         "c_Gender": "Women",
         "n_DateSort": 20180421,
         "c_Person": "Maria Eduar Seifer",
         "c_PersonNatio": "Brazil",
         "c_NOC": "Brazil",
         "c_Result": "9:02.27",
         "n_ResultSort": 542270,
         "c_Class": "Elite",
         "_deepnote_index_column": 16941
        },
        {
         "c_Sport": "Swimming",
         "c_Season": 2018,
         "c_Event": "800m Freestyle",
         "c_Gender": "Women",
         "n_DateSort": 20180818,
         "c_Person": "Hyuu Ohba",
         "c_PersonNatio": "Japan",
         "c_NOC": "Japan",
         "c_Result": "9:02.28",
         "n_ResultSort": 542280,
         "c_Class": "Elite",
         "_deepnote_index_column": 16942
        },
        {
         "c_Sport": "Swimming",
         "c_Season": 2018,
         "c_Event": "800m Freestyle",
         "c_Gender": "Women",
         "n_DateSort": 20180726,
         "c_Person": "Klara Bosnjak",
         "c_PersonNatio": "Croatia",
         "c_NOC": "Croatia",
         "c_Result": "9:02.44",
         "n_ResultSort": 542440,
         "c_Class": "Elite",
         "_deepnote_index_column": 16943
        },
        {
         "c_Sport": "Swimming",
         "c_Season": 2018,
         "c_Event": "800m Freestyle",
         "c_Gender": "Women",
         "n_DateSort": 20180519,
         "c_Person": "Chantel Jeffrey",
         "c_PersonNatio": "Canada",
         "c_NOC": "Canada",
         "c_Result": "9:02.47",
         "n_ResultSort": 542470,
         "c_Class": "Elite",
         "_deepnote_index_column": 16944
        },
        {
         "c_Sport": "Swimming",
         "c_Season": 2018,
         "c_Event": "800m Freestyle",
         "c_Gender": "Women",
         "n_DateSort": 20180421,
         "c_Person": "Bindi Ware",
         "c_PersonNatio": "Australia",
         "c_NOC": "Australia",
         "c_Result": "9:02.48",
         "n_ResultSort": 542480,
         "c_Class": "Elite",
         "_deepnote_index_column": 16945
        },
        {
         "c_Sport": "Swimming",
         "c_Season": 2018,
         "c_Event": "800m Freestyle",
         "c_Gender": "Women",
         "n_DateSort": 20180302,
         "c_Person": "Ebony Blackstone",
         "c_PersonNatio": "Australia",
         "c_NOC": "Australia",
         "c_Result": "9:02.54",
         "n_ResultSort": 542540,
         "c_Class": "Elite",
         "_deepnote_index_column": 16946
        },
        {
         "c_Sport": "Swimming",
         "c_Season": 2018,
         "c_Event": "800m Freestyle",
         "c_Gender": "Women",
         "n_DateSort": 20180609,
         "c_Person": "Mia Steen Duus",
         "c_PersonNatio": "Denmark",
         "c_NOC": "Denmark",
         "c_Result": "9:02.55",
         "n_ResultSort": 542550,
         "c_Class": "Elite",
         "_deepnote_index_column": 16947
        }
       ]
      },
      "text/plain": "        c_Sport  c_Season          c_Event c_Gender  n_DateSort  \\\n0      Swimming      2018  100m Backstroke      Men    20180809   \n1      Swimming      2018  100m Backstroke      Men    20180822   \n2      Swimming      2018  100m Backstroke      Men    20180806   \n3      Swimming      2018  100m Backstroke      Men    20180819   \n4      Swimming      2018  100m Backstroke      Men    20180728   \n...         ...       ...              ...      ...         ...   \n16943  Swimming      2018   800m Freestyle    Women    20180726   \n16944  Swimming      2018   800m Freestyle    Women    20180519   \n16945  Swimming      2018   800m Freestyle    Women    20180421   \n16946  Swimming      2018   800m Freestyle    Women    20180302   \n16947  Swimming      2018   800m Freestyle    Women    20180609   \n\n                 c_Person  c_PersonNatio          c_NOC c_Result  \\\n0             Ryan Murphy  United States  United States    51.94   \n1                Xu Jiayu          China          China    52.30   \n2      Kliment Kolesnikov         Russia         Russia    52.51   \n3            Ryosuke Irie          Japan          Japan    52.53   \n4            Matt Grevers  United States  United States    52.55   \n...                   ...            ...            ...      ...   \n16943       Klara Bosnjak        Croatia        Croatia  9:02.44   \n16944     Chantel Jeffrey         Canada         Canada  9:02.47   \n16945          Bindi Ware      Australia      Australia  9:02.48   \n16946    Ebony Blackstone      Australia      Australia  9:02.54   \n16947      Mia Steen Duus        Denmark        Denmark  9:02.55   \n\n       n_ResultSort c_Class  \n0             51940   Elite  \n1             52300   Elite  \n2             52510   Elite  \n3             52530   Elite  \n4             52550   Elite  \n...             ...     ...  \n16943        542440   Elite  \n16944        542470   Elite  \n16945        542480   Elite  \n16946        542540   Elite  \n16947        542550   Elite  \n\n[16948 rows x 11 columns]",
      "text/html": "<div>\n<style scoped>\n    .dataframe tbody tr th:only-of-type {\n        vertical-align: middle;\n    }\n\n    .dataframe tbody tr th {\n        vertical-align: top;\n    }\n\n    .dataframe thead th {\n        text-align: right;\n    }\n</style>\n<table border=\"1\" class=\"dataframe\">\n  <thead>\n    <tr style=\"text-align: right;\">\n      <th></th>\n      <th>c_Sport</th>\n      <th>c_Season</th>\n      <th>c_Event</th>\n      <th>c_Gender</th>\n      <th>n_DateSort</th>\n      <th>c_Person</th>\n      <th>c_PersonNatio</th>\n      <th>c_NOC</th>\n      <th>c_Result</th>\n      <th>n_ResultSort</th>\n      <th>c_Class</th>\n    </tr>\n  </thead>\n  <tbody>\n    <tr>\n      <th>0</th>\n      <td>Swimming</td>\n      <td>2018</td>\n      <td>100m Backstroke</td>\n      <td>Men</td>\n      <td>20180809</td>\n      <td>Ryan Murphy</td>\n      <td>United States</td>\n      <td>United States</td>\n      <td>51.94</td>\n      <td>51940</td>\n      <td>Elite</td>\n    </tr>\n    <tr>\n      <th>1</th>\n      <td>Swimming</td>\n      <td>2018</td>\n      <td>100m Backstroke</td>\n      <td>Men</td>\n      <td>20180822</td>\n      <td>Xu Jiayu</td>\n      <td>China</td>\n      <td>China</td>\n      <td>52.30</td>\n      <td>52300</td>\n      <td>Elite</td>\n    </tr>\n    <tr>\n      <th>2</th>\n      <td>Swimming</td>\n      <td>2018</td>\n      <td>100m Backstroke</td>\n      <td>Men</td>\n      <td>20180806</td>\n      <td>Kliment Kolesnikov</td>\n      <td>Russia</td>\n      <td>Russia</td>\n      <td>52.51</td>\n      <td>52510</td>\n      <td>Elite</td>\n    </tr>\n    <tr>\n      <th>3</th>\n      <td>Swimming</td>\n      <td>2018</td>\n      <td>100m Backstroke</td>\n      <td>Men</td>\n      <td>20180819</td>\n      <td>Ryosuke Irie</td>\n      <td>Japan</td>\n      <td>Japan</td>\n      <td>52.53</td>\n      <td>52530</td>\n      <td>Elite</td>\n    </tr>\n    <tr>\n      <th>4</th>\n      <td>Swimming</td>\n      <td>2018</td>\n      <td>100m Backstroke</td>\n      <td>Men</td>\n      <td>20180728</td>\n      <td>Matt Grevers</td>\n      <td>United States</td>\n      <td>United States</td>\n      <td>52.55</td>\n      <td>52550</td>\n      <td>Elite</td>\n    </tr>\n    <tr>\n      <th>...</th>\n      <td>...</td>\n      <td>...</td>\n      <td>...</td>\n      <td>...</td>\n      <td>...</td>\n      <td>...</td>\n      <td>...</td>\n      <td>...</td>\n      <td>...</td>\n      <td>...</td>\n      <td>...</td>\n    </tr>\n    <tr>\n      <th>16943</th>\n      <td>Swimming</td>\n      <td>2018</td>\n      <td>800m Freestyle</td>\n      <td>Women</td>\n      <td>20180726</td>\n      <td>Klara Bosnjak</td>\n      <td>Croatia</td>\n      <td>Croatia</td>\n      <td>9:02.44</td>\n      <td>542440</td>\n      <td>Elite</td>\n    </tr>\n    <tr>\n      <th>16944</th>\n      <td>Swimming</td>\n      <td>2018</td>\n      <td>800m Freestyle</td>\n      <td>Women</td>\n      <td>20180519</td>\n      <td>Chantel Jeffrey</td>\n      <td>Canada</td>\n      <td>Canada</td>\n      <td>9:02.47</td>\n      <td>542470</td>\n      <td>Elite</td>\n    </tr>\n    <tr>\n      <th>16945</th>\n      <td>Swimming</td>\n      <td>2018</td>\n      <td>800m Freestyle</td>\n      <td>Women</td>\n      <td>20180421</td>\n      <td>Bindi Ware</td>\n      <td>Australia</td>\n      <td>Australia</td>\n      <td>9:02.48</td>\n      <td>542480</td>\n      <td>Elite</td>\n    </tr>\n    <tr>\n      <th>16946</th>\n      <td>Swimming</td>\n      <td>2018</td>\n      <td>800m Freestyle</td>\n      <td>Women</td>\n      <td>20180302</td>\n      <td>Ebony Blackstone</td>\n      <td>Australia</td>\n      <td>Australia</td>\n      <td>9:02.54</td>\n      <td>542540</td>\n      <td>Elite</td>\n    </tr>\n    <tr>\n      <th>16947</th>\n      <td>Swimming</td>\n      <td>2018</td>\n      <td>800m Freestyle</td>\n      <td>Women</td>\n      <td>20180609</td>\n      <td>Mia Steen Duus</td>\n      <td>Denmark</td>\n      <td>Denmark</td>\n      <td>9:02.55</td>\n      <td>542550</td>\n      <td>Elite</td>\n    </tr>\n  </tbody>\n</table>\n<p>16948 rows × 11 columns</p>\n</div>"
     },
     "metadata": {}
    }
   ]
  },
  {
   "cell_type": "markdown",
   "source": "## Python Wrangling Challenge - Bonus\n\n> Multiple File Handling\n\n**Setup**\n\n+ Create a separate excel file for each unique event within the data. **Hint:** Use the pandas [`groupby`]() function to group the dataset by event. Then [loop through the `groupby` object](https://stackoverflow.com/questions/21333832/how-to-save-pandas-groups-to-separate-files) to create and save each file into the `data` folder.\n\n**Challenge**\n\n+ Merge all the `.xlsx` files within the `data` folder into one dataframe.",
   "metadata": {
    "tags": [],
    "cell_id": "00005-d274a37a-a5b1-4de4-933b-4e58894209ed",
    "deepnote_cell_type": "markdown",
    "deepnote_cell_height": 290.34375
   }
  },
  {
   "cell_type": "code",
   "metadata": {
    "tags": [],
    "cell_id": "00006-b7483f26-1994-432b-aa73-c75571bd6df4",
    "deepnote_to_be_reexecuted": false,
    "source_hash": "6dcc4be7",
    "execution_millis": 2,
    "output_cleared": true,
    "execution_start": 1616765581401,
    "deepnote_cell_type": "code",
    "deepnote_cell_height": 81
   },
   "source": "# Setup",
   "execution_count": null,
   "outputs": []
  },
  {
   "cell_type": "code",
   "metadata": {
    "tags": [],
    "cell_id": "00007-92a8b79c-ffcc-405c-90a8-d80d073c3450",
    "deepnote_to_be_reexecuted": false,
    "source_hash": "57a1aa76",
    "execution_start": 1616765216937,
    "execution_millis": 1,
    "deepnote_cell_type": "code",
    "deepnote_cell_height": 81
   },
   "source": "# Challenge",
   "execution_count": null,
   "outputs": []
  },
  {
   "cell_type": "markdown",
   "source": "<a style='text-decoration:none;line-height:16px;display:flex;color:#5B5B62;padding:10px;justify-content:end;' href='https://deepnote.com?utm_source=created-in-deepnote-cell&projectId=01834284-5a22-433a-9a28-a120736ff2ec' target=\"_blank\">\n<img alt='Created in deepnote.com' style='display:inline;max-height:16px;margin:0px;margin-right:7.5px;' src='data:image/svg+xml;base64,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' > </img>\nCreated in <span style='font-weight:600;margin-left:4px;'>Deepnote</span></a>",
   "metadata": {
    "tags": [],
    "created_in_deepnote_cell": true,
    "deepnote_cell_type": "markdown"
   }
  }
 ],
 "nbformat": 4,
 "nbformat_minor": 2,
 "metadata": {
  "orig_nbformat": 2,
  "deepnote_notebook_id": "f29ba7f2-276b-4a10-adb1-f2ceb699394d",
  "deepnote_execution_queue": [],
  "deepnote": {}
 }
}